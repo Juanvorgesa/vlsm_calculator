{
 "cells": [
  {
   "cell_type": "markdown",
   "metadata": {},
   "source": [
    "### UNIVERSIDAD MICHOACANA DE SAN NICOLÁS HIDALGO\n",
    "##### Alumno: Juan Pedro Reyes Ornelas.\n",
    "##### Matrícula: 2001336c\n"
   ]
  },
  {
   "cell_type": "markdown",
   "metadata": {},
   "source": [
    "##### Primer parte: creación de la clase.\n",
    "\n",
    "Para iniciar, crearemos una clase que contenga la información de la red (Subnet, mask, range, broadcast y bits) además de las características de la red (nombre y hosts)."
   ]
  },
  {
   "cell_type": "code",
   "execution_count": 5,
   "metadata": {},
   "outputs": [],
   "source": [
    "class Network:\n",
    "    def __init__(self, name, hosts):\n",
    "        self.name = name\n",
    "        self.hosts = hosts\n",
    "        self.subnet = ''\n",
    "        self.mask = ''\n",
    "        self.range = ''\n",
    "        self.broadcast = ''\n",
    "        self.bits = 0"
   ]
  },
  {
   "cell_type": "markdown",
   "metadata": {},
   "source": [
    "#### Primer paso, obtener los bits necesarios para cada una de las redes.\n",
    "Para realizar esto, requerimos verificar que la cantidad de hosts quepan en cierta cantidad de bits."
   ]
  },
  {
   "cell_type": "code",
   "execution_count": 6,
   "metadata": {},
   "outputs": [],
   "source": [
    "def setBits(nets):\n",
    "    for net in nets:\n",
    "        bits = 0\n",
    "        while 2**bits < net.hosts+2: # Se agrega dos hosts, el de broadcast y el de subnet.\n",
    "            bits+=1\n",
    "        net.bits = bits"
   ]
  },
  {
   "cell_type": "markdown",
   "metadata": {},
   "source": [
    "Una vez tenemos la cantidad de bits necesarios para cada red, podemos agregar la máscara."
   ]
  },
  {
   "cell_type": "code",
   "execution_count": 7,
   "metadata": {},
   "outputs": [],
   "source": [
    "def setMask(nets):\n",
    "    masks = ['0','128', '192', '224', '240', '248', '252', '254'] # Creamos la lista de valores faltantes para cada tipo de prefijo.\n",
    "    for net in nets:\n",
    "        octetos = 4\n",
    "        prefijo = 32-net.bits\n",
    "        net.mask+=(prefijo//8)*'255.'\n",
    "        octetos -= prefijo//8\n",
    "        rest_bits = prefijo%8\n",
    "        while octetos>0:\n",
    "            if(octetos==1):\n",
    "                net.mask+=masks[rest_bits]\n",
    "            else:\n",
    "                net.mask+=masks[rest_bits]+'.'\n",
    "            octetos-=1"
   ]
  },
  {
   "cell_type": "code",
   "execution_count": 8,
   "metadata": {},
   "outputs": [],
   "source": [
    "nets = [Network('A',100),Network('B',421),Network('C',1000),Network('D',215)]\n",
    "setBits(nets)\n",
    "setMask(nets)\n",
    "for net in nets:\n",
    "    print(f'Máscara {net.name} = {net.mask}')"
   ]
  }
 ],
 "metadata": {
  "kernelspec": {
   "display_name": "Python 3",
   "language": "python",
   "name": "python3"
  },
  "language_info": {
   "codemirror_mode": {
    "name": "ipython",
    "version": 3
   },
   "file_extension": ".py",
   "mimetype": "text/x-python",
   "name": "python",
   "nbconvert_exporter": "python",
   "pygments_lexer": "ipython3",
   "version": "3.10.12"
  }
 },
 "nbformat": 4,
 "nbformat_minor": 2
}
